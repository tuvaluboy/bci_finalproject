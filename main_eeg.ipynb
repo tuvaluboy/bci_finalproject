{
 "cells": [
  {
   "cell_type": "code",
   "execution_count": 3,
   "id": "aac82e42",
   "metadata": {
    "scrolled": false
   },
   "outputs": [],
   "source": [
    "import numpy as np\n",
    "import pandas as pd\n",
    "import os\n",
    "import matplotlib.pyplot as plt\n",
    "import seaborn as sns\n",
    "from sklearn.model_selection import train_test_split\n",
    "import tensorflow as tf\n",
    "from sklearn.metrics import confusion_matrix, classification_report"
   ]
  },
  {
   "cell_type": "code",
   "execution_count": 4,
   "id": "32b022b7",
   "metadata": {
    "scrolled": true
   },
   "outputs": [
    {
     "data": {
      "text/plain": [
       "'\\n   Authors: - SYED ASIF AHMAD QADRI (110065859), FINI IUNI (111065425) and JEAN CARLOS (111065422) \\n            NATIONAL TSING HUA UNIVERSITY (NTHU), HSINCHU, TAIWAN \\n   In this project we will be recognising Emotion from EEG signals.\\n   About the data set : The data set is called the SEED-IV data set.\\n   It contains data of 15 people that underwent trails 15 times each thrice.\\n\\n           Total data items =  15 (subjects) * 15 (trials each) * 3 (sessions each)\\n                            = 675 data items\\n\\n   Our project consists of 4 modules, namely :applying ICA, identifying and removing artifacts, feature extraction, feature reduction (PCA) and \\n   classification using different ML and DL algorithms.\\n   \\n\\n'"
      ]
     },
     "execution_count": 4,
     "metadata": {},
     "output_type": "execute_result"
    }
   ],
   "source": [
    "'''\n",
    "   Authors: - SYED ASIF AHMAD QADRI (110065859), FINI IUNI (111065425) and JEAN CARLOS (111065422) \n",
    "            NATIONAL TSING HUA UNIVERSITY (NTHU), HSINCHU, TAIWAN \n",
    "   In this project we will be recognising Emotion from EEG signals.\n",
    "   About the data set : The data set is called the SEED data set.\n",
    "   It contains data of 15 people that underwent trails 15 times each thrice.\n",
    "\n",
    "           Total data items =  15 (subjects) * 15 (trials each) * 3 (sessions each)\n",
    "                            = 675 data items\n",
    "\n",
    "   Our project consists of 4 modules, namely :applying ICA, identifying and removing artifacts, feature extraction, feature reduction (PCA) and \n",
    "   classification using different ML and DL algorithms.\n",
    "   \n",
    "\n",
    "'''"
   ]
  },
  {
   "cell_type": "code",
   "execution_count": 7,
   "id": "1ff66a1c",
   "metadata": {},
   "outputs": [
    {
     "data": {
      "text/html": [
       "<div>\n",
       "<style scoped>\n",
       "    .dataframe tbody tr th:only-of-type {\n",
       "        vertical-align: middle;\n",
       "    }\n",
       "\n",
       "    .dataframe tbody tr th {\n",
       "        vertical-align: top;\n",
       "    }\n",
       "\n",
       "    .dataframe thead th {\n",
       "        text-align: right;\n",
       "    }\n",
       "</style>\n",
       "<table border=\"1\" class=\"dataframe\">\n",
       "  <thead>\n",
       "    <tr style=\"text-align: right;\">\n",
       "      <th></th>\n",
       "      <th>0</th>\n",
       "    </tr>\n",
       "  </thead>\n",
       "  <tbody>\n",
       "    <tr>\n",
       "      <th>0</th>\n",
       "      <td>FP1</td>\n",
       "    </tr>\n",
       "    <tr>\n",
       "      <th>1</th>\n",
       "      <td>FPZ</td>\n",
       "    </tr>\n",
       "    <tr>\n",
       "      <th>2</th>\n",
       "      <td>FP2</td>\n",
       "    </tr>\n",
       "    <tr>\n",
       "      <th>3</th>\n",
       "      <td>AF3</td>\n",
       "    </tr>\n",
       "    <tr>\n",
       "      <th>4</th>\n",
       "      <td>AF4</td>\n",
       "    </tr>\n",
       "  </tbody>\n",
       "</table>\n",
       "</div>"
      ],
      "text/plain": [
       "     0\n",
       "0  FP1\n",
       "1  FPZ\n",
       "2  FP2\n",
       "3  AF3\n",
       "4  AF4"
      ]
     },
     "execution_count": 7,
     "metadata": {},
     "output_type": "execute_result"
    }
   ],
   "source": [
    "# reading the channel order for dataframe\n",
    "channel_order = pd.read_excel(\"Channel Order.xlsx\", header=None)\n",
    "channel_order.head()"
   ]
  },
  {
   "cell_type": "code",
   "execution_count": 10,
   "id": "894a6349",
   "metadata": {},
   "outputs": [],
   "source": [
    "# load your data\n",
    "df = pd.read_excel('SEED_stimulation.xlsx', usecols=['Label'])\n",
    "\n",
    "# extract labels\n",
    "labels = df['Label']"
   ]
  },
  {
   "cell_type": "code",
   "execution_count": 11,
   "id": "cc9e49ac",
   "metadata": {},
   "outputs": [
    {
     "data": {
      "text/plain": [
       "0    1.0\n",
       "1    2.0\n",
       "2    0.0\n",
       "3    2.0\n",
       "4    0.0\n",
       "Name: Label, dtype: float64"
      ]
     },
     "execution_count": 11,
     "metadata": {},
     "output_type": "execute_result"
    }
   ],
   "source": [
    "labels.head()"
   ]
  },
  {
   "cell_type": "code",
   "execution_count": 12,
   "id": "a9ab9a68",
   "metadata": {},
   "outputs": [],
   "source": [
    "label_mapping = {'NEGATIVE': 0, 'NEUTRAL': 1, 'POSITIVE': 2}"
   ]
  },
  {
   "cell_type": "code",
   "execution_count": 17,
   "id": "0f12ef80",
   "metadata": {
    "scrolled": true
   },
   "outputs": [
    {
     "data": {
      "text/plain": [
       "['10_20151014.mat',\n",
       " '10_20151021.mat',\n",
       " '10_20151023.mat',\n",
       " '11_20150916.mat',\n",
       " '11_20150921.mat',\n",
       " '11_20151011.mat',\n",
       " '12_20150725.mat',\n",
       " '12_20150804.mat',\n",
       " '12_20150807.mat',\n",
       " '13_20151115.mat',\n",
       " '13_20151125.mat',\n",
       " '13_20161130.mat',\n",
       " '14_20151205.mat',\n",
       " '14_20151208.mat',\n",
       " '14_20151215.mat',\n",
       " '15_20150508.mat',\n",
       " '15_20150514.mat',\n",
       " '15_20150527.mat',\n",
       " '1_20160518.mat',\n",
       " '1_20161125.mat',\n",
       " '1_20161126.mat',\n",
       " '2_20150915.mat',\n",
       " '2_20150920.mat',\n",
       " '2_20151012.mat',\n",
       " '3_20150919.mat',\n",
       " '3_20151018.mat',\n",
       " '3_20151101.mat',\n",
       " '4_20151111.mat',\n",
       " '4_20151118.mat',\n",
       " '4_20151123.mat',\n",
       " '5_20160406.mat',\n",
       " '5_20160413.mat',\n",
       " '5_20160420.mat',\n",
       " '6_20150507.mat',\n",
       " '6_20150511.mat',\n",
       " '6_20150512.mat',\n",
       " '7_20150715.mat',\n",
       " '7_20150717.mat',\n",
       " '7_20150721.mat',\n",
       " '8_20151103.mat',\n",
       " '8_20151110.mat',\n",
       " '8_20151117.mat',\n",
       " '9_20151028.mat',\n",
       " '9_20151119.mat',\n",
       " '9_20151209.mat']"
      ]
     },
     "execution_count": 17,
     "metadata": {},
     "output_type": "execute_result"
    }
   ],
   "source": [
    "files = os.listdir (\"E:\\Courses\\SEM-3\\BCI\\Final_assign\\Code\\Combined\")\n",
    "files"
   ]
  },
  {
   "cell_type": "code",
   "execution_count": null,
   "id": "b14468cd",
   "metadata": {},
   "outputs": [],
   "source": []
  },
  {
   "cell_type": "markdown",
   "id": "3ee47591",
   "metadata": {},
   "source": [
    "# wavelet_energy"
   ]
  },
  {
   "cell_type": "code",
   "execution_count": 7,
   "id": "d19249ae",
   "metadata": {},
   "outputs": [],
   "source": [
    "def calc_wavelet_energy(data_set):\n",
    "  \"\"\"\n",
    "    Input : 1 * N vector\n",
    "    Output: Float with the wavelet energy of the input vector,\n",
    "    rounded to 3 decimal places.\n",
    "  \"\"\"\n",
    "  # p_sqr = [i ** 2 for i in data_set]\n",
    "  wavelet_energy = np.nansum(np.log2(np.square(data_set)))\n",
    "  return round(wavelet_energy, 3)"
   ]
  },
  {
   "cell_type": "markdown",
   "id": "e03df44d",
   "metadata": {},
   "source": [
    "# shannon_entropy"
   ]
  },
  {
   "cell_type": "code",
   "execution_count": 8,
   "id": "c57211f3",
   "metadata": {},
   "outputs": [],
   "source": [
    " def calc_shannon_entropy(data_set):\n",
    "        \"\"\"\n",
    "            Input : 1 * N vector\n",
    "            Output: Float with the wavelet entropy of the input vector,\n",
    "                    rounded to 3 decimal places.\n",
    "        \"\"\"\n",
    "        # probability = [i ** 2 for i in data_set]\n",
    "        probability = np.square(data_set)\n",
    "        shannon_entropy = -np.nansum(probability * np.log2(probability))\n",
    "        return round(shannon_entropy, 3)"
   ]
  },
  {
   "cell_type": "code",
   "execution_count": 12,
   "id": "1e15277a",
   "metadata": {},
   "outputs": [],
   "source": [
    "def preprocess_inputs(df):\n",
    "  df = df.copy()\n",
    "    \n",
    "  df['label'] = df['label'].replace(label_mapping)\n",
    "    \n",
    "  y = df['label'].copy()\n",
    "  X = df.drop('label', axis=1).copy()\n",
    "    \n",
    "  X_train, X_test, y_train, y_test = train_test_split(X, y, train_size=0.7, random_state=123)\n",
    "    \n",
    "  return X_train, X_test, y_train, y_test"
   ]
  },
  {
   "cell_type": "markdown",
   "id": "268ede6c",
   "metadata": {},
   "source": [
    "# Recurrent Neural Network (RNN)"
   ]
  },
  {
   "cell_type": "code",
   "execution_count": 23,
   "id": "04f6f53b",
   "metadata": {},
   "outputs": [
    {
     "name": "stdout",
     "output_type": "stream",
     "text": [
      "Model: \"model\"\n",
      "_________________________________________________________________\n",
      " Layer (type)                Output Shape              Param #   \n",
      "=================================================================\n",
      " input_1 (InputLayer)        [(None, 2548)]            0         \n",
      "                                                                 \n",
      " tf.expand_dims (TFOpLambda)  (None, 2548, 1)          0         \n",
      "                                                                 \n",
      " gru (GRU)                   (None, 2548, 256)         198912    \n",
      "                                                                 \n",
      " flatten (Flatten)           (None, 652288)            0         \n",
      "                                                                 \n",
      " dense (Dense)               (None, 3)                 1956867   \n",
      "                                                                 \n",
      "=================================================================\n",
      "Total params: 2,155,779\n",
      "Trainable params: 2,155,779\n",
      "Non-trainable params: 0\n",
      "_________________________________________________________________\n",
      "None\n"
     ]
    }
   ],
   "source": [
    "inputs = tf.keras.Input(shape=(X_train.shape[1],))\n",
    "\n",
    "expand_dims = tf.expand_dims(inputs, axis=2)\n",
    "gru = tf.keras.layers.GRU(256, return_sequences=True)(expand_dims)\n",
    "flatten = tf.keras.layers.Flatten()(gru)\n",
    "outputs = tf.keras.layers.Dense(3, activation='softmax')(flatten)\n",
    "\n",
    "model = tf.keras.Model(inputs=inputs, outputs=outputs)\n",
    "print(model.summary())"
   ]
  },
  {
   "cell_type": "code",
   "execution_count": 24,
   "id": "e10d0fbe",
   "metadata": {
    "scrolled": true
   },
   "outputs": [
    {
     "name": "stdout",
     "output_type": "stream",
     "text": [
      "Epoch 1/50\n"
     ]
    },
    {
     "name": "stderr",
     "output_type": "stream",
     "text": [
      "C:\\Users\\syeda\\anaconda3\\envs\\tensor\\lib\\site-packages\\keras\\engine\\data_adapter.py:1699: FutureWarning: The behavior of `series[i:j]` with an integer-dtype index is deprecated. In a future version, this will be treated as *label-based* indexing, consistent with e.g. `series[i]` lookups. To retain the old behavior, use `series.iloc[i:j]`. To get the future behavior, use `series.loc[i:j]`.\n",
      "  return t[start:end]\n"
     ]
    },
    {
     "name": "stdout",
     "output_type": "stream",
     "text": [
      "38/38 [==============================] - 10s 161ms/step - loss: 27.3446 - accuracy: 0.8164 - val_loss: 4.7605 - val_accuracy: 0.9264\n",
      "Epoch 2/50\n",
      "38/38 [==============================] - 6s 153ms/step - loss: 11.4045 - accuracy: 0.8759 - val_loss: 34.8146 - val_accuracy: 0.8763\n",
      "Epoch 3/50\n",
      "38/38 [==============================] - 6s 153ms/step - loss: 6.8879 - accuracy: 0.9212 - val_loss: 3.7218 - val_accuracy: 0.9231\n",
      "Epoch 4/50\n",
      "38/38 [==============================] - 6s 153ms/step - loss: 1.1203 - accuracy: 0.9749 - val_loss: 5.2701 - val_accuracy: 0.9231\n",
      "Epoch 5/50\n",
      "38/38 [==============================] - 6s 153ms/step - loss: 0.4443 - accuracy: 0.9866 - val_loss: 1.4105 - val_accuracy: 0.9666\n",
      "Epoch 6/50\n",
      "38/38 [==============================] - 6s 154ms/step - loss: 0.2536 - accuracy: 0.9908 - val_loss: 1.7452 - val_accuracy: 0.9565\n",
      "Epoch 7/50\n",
      "38/38 [==============================] - 6s 153ms/step - loss: 0.0528 - accuracy: 0.9950 - val_loss: 1.4874 - val_accuracy: 0.9398\n",
      "Epoch 8/50\n",
      "38/38 [==============================] - 6s 153ms/step - loss: 0.4533 - accuracy: 0.9883 - val_loss: 2.1634 - val_accuracy: 0.9565\n",
      "Epoch 9/50\n",
      "38/38 [==============================] - 6s 154ms/step - loss: 0.2919 - accuracy: 0.9908 - val_loss: 1.0897 - val_accuracy: 0.9732\n",
      "Epoch 10/50\n",
      "38/38 [==============================] - 6s 155ms/step - loss: 0.2748 - accuracy: 0.9899 - val_loss: 1.7407 - val_accuracy: 0.9699\n",
      "Epoch 11/50\n",
      "38/38 [==============================] - 6s 155ms/step - loss: 0.1948 - accuracy: 0.9950 - val_loss: 4.3023 - val_accuracy: 0.9331\n",
      "Epoch 12/50\n",
      "38/38 [==============================] - 6s 157ms/step - loss: 0.0611 - accuracy: 0.9966 - val_loss: 6.1150 - val_accuracy: 0.9431\n",
      "Epoch 13/50\n",
      "38/38 [==============================] - 6s 155ms/step - loss: 0.2352 - accuracy: 0.9958 - val_loss: 1.2734 - val_accuracy: 0.9699\n",
      "Epoch 14/50\n",
      "38/38 [==============================] - 6s 156ms/step - loss: 0.6194 - accuracy: 0.9858 - val_loss: 5.3728 - val_accuracy: 0.9431\n",
      "Epoch 15/50\n",
      "38/38 [==============================] - 6s 155ms/step - loss: 0.3709 - accuracy: 0.9883 - val_loss: 5.4453 - val_accuracy: 0.9498\n",
      "Epoch 16/50\n",
      "38/38 [==============================] - 6s 154ms/step - loss: 1.8949 - accuracy: 0.9740 - val_loss: 8.1784 - val_accuracy: 0.9498\n",
      "Epoch 17/50\n",
      "38/38 [==============================] - 6s 154ms/step - loss: 0.7449 - accuracy: 0.9916 - val_loss: 6.0068 - val_accuracy: 0.9465\n",
      "Epoch 18/50\n",
      "38/38 [==============================] - 6s 154ms/step - loss: 1.9047 - accuracy: 0.9807 - val_loss: 3.8308 - val_accuracy: 0.9532\n",
      "Epoch 19/50\n",
      "38/38 [==============================] - 6s 154ms/step - loss: 1.2589 - accuracy: 0.9883 - val_loss: 7.8750 - val_accuracy: 0.9565\n",
      "Epoch 20/50\n",
      "38/38 [==============================] - 6s 156ms/step - loss: 0.2316 - accuracy: 0.9958 - val_loss: 3.8823 - val_accuracy: 0.9666\n",
      "Epoch 21/50\n",
      "38/38 [==============================] - 6s 149ms/step - loss: 0.1484 - accuracy: 0.9975 - val_loss: 5.2916 - val_accuracy: 0.9532\n",
      "Epoch 22/50\n",
      "38/38 [==============================] - 6s 151ms/step - loss: 0.0041 - accuracy: 0.9992 - val_loss: 6.5590 - val_accuracy: 0.9532\n",
      "Epoch 23/50\n",
      "38/38 [==============================] - 6s 154ms/step - loss: 0.1732 - accuracy: 0.9975 - val_loss: 2.2355 - val_accuracy: 0.9766\n",
      "Epoch 24/50\n",
      "38/38 [==============================] - 6s 154ms/step - loss: 0.1900 - accuracy: 0.9975 - val_loss: 2.8287 - val_accuracy: 0.9732\n",
      "Epoch 25/50\n",
      "38/38 [==============================] - 6s 149ms/step - loss: 0.1583 - accuracy: 0.9983 - val_loss: 2.5889 - val_accuracy: 0.9699\n",
      "Epoch 26/50\n",
      "38/38 [==============================] - 6s 154ms/step - loss: 0.0000e+00 - accuracy: 1.0000 - val_loss: 2.4175 - val_accuracy: 0.9732\n",
      "Epoch 27/50\n",
      "38/38 [==============================] - 6s 153ms/step - loss: 0.0000e+00 - accuracy: 1.0000 - val_loss: 2.4168 - val_accuracy: 0.9732\n",
      "Epoch 28/50\n",
      "38/38 [==============================] - 6s 155ms/step - loss: 0.0000e+00 - accuracy: 1.0000 - val_loss: 2.4168 - val_accuracy: 0.9732\n",
      "Epoch 29/50\n",
      "38/38 [==============================] - 6s 154ms/step - loss: 0.0000e+00 - accuracy: 1.0000 - val_loss: 2.4168 - val_accuracy: 0.9732\n",
      "Epoch 30/50\n",
      "38/38 [==============================] - 6s 155ms/step - loss: 0.0000e+00 - accuracy: 1.0000 - val_loss: 2.4168 - val_accuracy: 0.9732\n",
      "Epoch 31/50\n",
      "38/38 [==============================] - 6s 154ms/step - loss: 0.0000e+00 - accuracy: 1.0000 - val_loss: 2.4168 - val_accuracy: 0.9732\n",
      "Epoch 32/50\n",
      "38/38 [==============================] - 6s 154ms/step - loss: 0.0000e+00 - accuracy: 1.0000 - val_loss: 2.4168 - val_accuracy: 0.9732\n",
      "Epoch 33/50\n",
      "38/38 [==============================] - 6s 155ms/step - loss: 0.0000e+00 - accuracy: 1.0000 - val_loss: 2.4168 - val_accuracy: 0.9732\n",
      "Epoch 34/50\n",
      "38/38 [==============================] - 6s 154ms/step - loss: 0.0000e+00 - accuracy: 1.0000 - val_loss: 2.4168 - val_accuracy: 0.9732\n",
      "Epoch 35/50\n",
      "38/38 [==============================] - 6s 154ms/step - loss: 0.0000e+00 - accuracy: 1.0000 - val_loss: 2.4168 - val_accuracy: 0.9732\n",
      "Epoch 36/50\n",
      "38/38 [==============================] - 6s 155ms/step - loss: 0.0000e+00 - accuracy: 1.0000 - val_loss: 2.4168 - val_accuracy: 0.9732\n",
      "Epoch 37/50\n",
      "38/38 [==============================] - 6s 154ms/step - loss: 0.0000e+00 - accuracy: 1.0000 - val_loss: 2.4168 - val_accuracy: 0.9732\n",
      "Epoch 38/50\n",
      "38/38 [==============================] - 6s 154ms/step - loss: 0.0000e+00 - accuracy: 1.0000 - val_loss: 2.4168 - val_accuracy: 0.9732\n",
      "Epoch 39/50\n",
      "38/38 [==============================] - 6s 154ms/step - loss: 0.0000e+00 - accuracy: 1.0000 - val_loss: 2.4168 - val_accuracy: 0.9732\n",
      "Epoch 40/50\n",
      "38/38 [==============================] - 6s 155ms/step - loss: 0.0000e+00 - accuracy: 1.0000 - val_loss: 2.4168 - val_accuracy: 0.9732\n",
      "Epoch 41/50\n",
      "38/38 [==============================] - 6s 155ms/step - loss: 0.0000e+00 - accuracy: 1.0000 - val_loss: 2.4168 - val_accuracy: 0.9732\n",
      "Epoch 42/50\n",
      "38/38 [==============================] - 6s 154ms/step - loss: 0.0000e+00 - accuracy: 1.0000 - val_loss: 2.4168 - val_accuracy: 0.9732\n",
      "Epoch 43/50\n",
      "38/38 [==============================] - 6s 160ms/step - loss: 0.0000e+00 - accuracy: 1.0000 - val_loss: 2.4168 - val_accuracy: 0.9732\n",
      "Epoch 44/50\n",
      "38/38 [==============================] - 6s 159ms/step - loss: 0.0000e+00 - accuracy: 1.0000 - val_loss: 2.4168 - val_accuracy: 0.9732\n",
      "Epoch 45/50\n",
      "38/38 [==============================] - 6s 158ms/step - loss: 0.0000e+00 - accuracy: 1.0000 - val_loss: 2.4168 - val_accuracy: 0.9732\n",
      "Epoch 46/50\n",
      "38/38 [==============================] - 6s 156ms/step - loss: 0.0000e+00 - accuracy: 1.0000 - val_loss: 2.4168 - val_accuracy: 0.9732\n",
      "Epoch 47/50\n",
      "38/38 [==============================] - 6s 157ms/step - loss: 0.0000e+00 - accuracy: 1.0000 - val_loss: 2.4168 - val_accuracy: 0.9732\n",
      "Epoch 48/50\n",
      "38/38 [==============================] - 6s 156ms/step - loss: 0.0000e+00 - accuracy: 1.0000 - val_loss: 2.4168 - val_accuracy: 0.9732\n",
      "Epoch 49/50\n",
      "38/38 [==============================] - 6s 157ms/step - loss: 0.0000e+00 - accuracy: 1.0000 - val_loss: 2.4168 - val_accuracy: 0.9732\n",
      "Epoch 50/50\n",
      "38/38 [==============================] - 6s 154ms/step - loss: 0.0000e+00 - accuracy: 1.0000 - val_loss: 2.4168 - val_accuracy: 0.9732\n"
     ]
    }
   ],
   "source": [
    "model.compile(\n",
    "    optimizer='adam',\n",
    "    loss='sparse_categorical_crossentropy',\n",
    "    metrics=['accuracy']\n",
    ")\n",
    "\n",
    "history = model.fit(\n",
    "    X_train,\n",
    "    y_train,\n",
    "    validation_split=0.2,\n",
    "    batch_size=32,\n",
    "    epochs=50\n",
    ")\n"
   ]
  },
  {
   "cell_type": "code",
   "execution_count": 25,
   "id": "44fd2abe",
   "metadata": {},
   "outputs": [
    {
     "name": "stdout",
     "output_type": "stream",
     "text": [
      "Test Accuracy: 97.500%\n"
     ]
    }
   ],
   "source": [
    "model_acc = model.evaluate(X_test, y_test, verbose=0)[1]\n",
    "print(\"Test Accuracy: {:.3f}%\".format(model_acc * 100))"
   ]
  },
  {
   "cell_type": "code",
   "execution_count": 26,
   "id": "ccd1ec98",
   "metadata": {},
   "outputs": [
    {
     "name": "stdout",
     "output_type": "stream",
     "text": [
      "20/20 [==============================] - 2s 69ms/step\n"
     ]
    },
    {
     "data": {
      "image/png": "[encoded data removed]",
      "text/plain": [
       "<Figure size 800x800 with 2 Axes>"
      ]
     },
     "metadata": {},
     "output_type": "display_data"
    },
    {
     "name": "stdout",
     "output_type": "stream",
     "text": [
      "Classification Report:\n",
      "----------------------\n",
      "               precision    recall  f1-score   support\n",
      "\n",
      "    NEGATIVE       0.95      0.99      0.97       201\n",
      "     NEUTRAL       1.00      0.99      0.99       231\n",
      "    POSITIVE       0.97      0.95      0.96       208\n",
      "\n",
      "    accuracy                           0.97       640\n",
      "   macro avg       0.97      0.97      0.97       640\n",
      "weighted avg       0.98      0.97      0.98       640\n",
      "\n"
     ]
    }
   ],
   "source": [
    "y_pred = np.array(list(map(lambda x: np.argmax(x), model.predict(X_test))))\n",
    "\n",
    "cm = confusion_matrix(y_test, y_pred)\n",
    "cm_normalized = cm / cm.sum(axis=1, keepdims=True)  # Normalize the confusion matrix\n",
    "\n",
    "clr = classification_report(y_test, y_pred, target_names=label_mapping.keys())\n",
    "\n",
    "plt.figure(figsize=(8, 8))\n",
    "sns.heatmap(cm_normalized, annot=True, fmt=\".2f\", cmap='Blues')\n",
    "plt.xticks(np.arange(3) + 0.5, label_mapping.keys())\n",
    "plt.yticks(np.arange(3) + 0.5, label_mapping.keys())\n",
    "plt.xlabel(\"Predicted\")\n",
    "plt.ylabel(\"Actual\")\n",
    "plt.title(\"Normalized Confusion Matrix\")\n",
    "plt.show()\n",
    "\n",
    "print(\"Classification Report:\\n----------------------\\n\", clr)\n"
   ]
  },
  {
   "cell_type": "markdown",
   "id": "23006796",
   "metadata": {},
   "source": [
    "# \"Convolutional Recurrent Neural Network\" (CRNN) or \"CNN-GRU Model\"."
   ]
  },
  {
   "cell_type": "code",
   "execution_count": 27,
   "id": "597c9fd1",
   "metadata": {
    "scrolled": true
   },
   "outputs": [
    {
     "name": "stdout",
     "output_type": "stream",
     "text": [
      "Epoch 1/50\n"
     ]
    },
    {
     "name": "stderr",
     "output_type": "stream",
     "text": [
      "C:\\Users\\syeda\\anaconda3\\envs\\tensor\\lib\\site-packages\\keras\\engine\\data_adapter.py:1699: FutureWarning: The behavior of `series[i:j]` with an integer-dtype index is deprecated. In a future version, this will be treated as *label-based* indexing, consistent with e.g. `series[i]` lookups. To retain the old behavior, use `series.iloc[i:j]`. To get the future behavior, use `series.loc[i:j]`.\n",
      "  return t[start:end]\n"
     ]
    },
    {
     "name": "stdout",
     "output_type": "stream",
     "text": [
      "38/38 [==============================] - 4s 34ms/step - loss: 0.3692 - accuracy: 0.8567 - val_loss: 0.2622 - val_accuracy: 0.8997\n",
      "Epoch 2/50\n",
      "38/38 [==============================] - 1s 26ms/step - loss: 0.2467 - accuracy: 0.8994 - val_loss: 0.2710 - val_accuracy: 0.8662\n",
      "Epoch 3/50\n",
      "38/38 [==============================] - 1s 26ms/step - loss: 0.2294 - accuracy: 0.9011 - val_loss: 0.2284 - val_accuracy: 0.9197\n",
      "Epoch 4/50\n",
      "38/38 [==============================] - 1s 26ms/step - loss: 0.2123 - accuracy: 0.9254 - val_loss: 0.2068 - val_accuracy: 0.9197\n",
      "Epoch 5/50\n",
      "38/38 [==============================] - 1s 26ms/step - loss: 0.2013 - accuracy: 0.9304 - val_loss: 0.1981 - val_accuracy: 0.9231\n",
      "Epoch 6/50\n",
      "38/38 [==============================] - 1s 25ms/step - loss: 0.1874 - accuracy: 0.9329 - val_loss: 0.2254 - val_accuracy: 0.9197\n",
      "Epoch 7/50\n",
      "38/38 [==============================] - 1s 25ms/step - loss: 0.1930 - accuracy: 0.9279 - val_loss: 0.1986 - val_accuracy: 0.9231\n",
      "Epoch 8/50\n",
      "38/38 [==============================] - 1s 26ms/step - loss: 0.1877 - accuracy: 0.9296 - val_loss: 0.1866 - val_accuracy: 0.9264\n",
      "Epoch 9/50\n",
      "38/38 [==============================] - 1s 27ms/step - loss: 0.1618 - accuracy: 0.9438 - val_loss: 0.1974 - val_accuracy: 0.9264\n",
      "Epoch 10/50\n",
      "38/38 [==============================] - 1s 28ms/step - loss: 0.1614 - accuracy: 0.9430 - val_loss: 0.2070 - val_accuracy: 0.9231\n",
      "Epoch 11/50\n",
      "38/38 [==============================] - 1s 27ms/step - loss: 0.1738 - accuracy: 0.9380 - val_loss: 0.1922 - val_accuracy: 0.9264\n",
      "Epoch 12/50\n",
      "38/38 [==============================] - 1s 28ms/step - loss: 0.1603 - accuracy: 0.9447 - val_loss: 0.1766 - val_accuracy: 0.9164\n",
      "Epoch 13/50\n",
      "38/38 [==============================] - 1s 26ms/step - loss: 0.1396 - accuracy: 0.9556 - val_loss: 0.1876 - val_accuracy: 0.9298\n",
      "Epoch 14/50\n",
      "38/38 [==============================] - 1s 27ms/step - loss: 0.1467 - accuracy: 0.9531 - val_loss: 0.1697 - val_accuracy: 0.9365\n",
      "Epoch 15/50\n",
      "38/38 [==============================] - 1s 26ms/step - loss: 0.1265 - accuracy: 0.9556 - val_loss: 0.1749 - val_accuracy: 0.9197\n",
      "Epoch 16/50\n",
      "38/38 [==============================] - 1s 26ms/step - loss: 0.1342 - accuracy: 0.9547 - val_loss: 0.1761 - val_accuracy: 0.9298\n",
      "Epoch 17/50\n",
      "38/38 [==============================] - 1s 26ms/step - loss: 0.1251 - accuracy: 0.9564 - val_loss: 0.1753 - val_accuracy: 0.9298\n",
      "Epoch 18/50\n",
      "38/38 [==============================] - 1s 26ms/step - loss: 0.1236 - accuracy: 0.9547 - val_loss: 0.1777 - val_accuracy: 0.9231\n",
      "Epoch 19/50\n",
      "38/38 [==============================] - 1s 25ms/step - loss: 0.1220 - accuracy: 0.9606 - val_loss: 0.2094 - val_accuracy: 0.9231\n",
      "Epoch 20/50\n",
      "38/38 [==============================] - 1s 25ms/step - loss: 0.1213 - accuracy: 0.9522 - val_loss: 0.1657 - val_accuracy: 0.9431\n",
      "Epoch 21/50\n",
      "38/38 [==============================] - 1s 25ms/step - loss: 0.1156 - accuracy: 0.9598 - val_loss: 0.1693 - val_accuracy: 0.9398\n",
      "Epoch 22/50\n",
      "38/38 [==============================] - 1s 25ms/step - loss: 0.1151 - accuracy: 0.9623 - val_loss: 0.1822 - val_accuracy: 0.9365\n",
      "Epoch 23/50\n",
      "38/38 [==============================] - 1s 25ms/step - loss: 0.1221 - accuracy: 0.9547 - val_loss: 0.2049 - val_accuracy: 0.9264\n",
      "Epoch 24/50\n",
      "38/38 [==============================] - 1s 25ms/step - loss: 0.1420 - accuracy: 0.9455 - val_loss: 0.1771 - val_accuracy: 0.9197\n",
      "Epoch 25/50\n",
      "38/38 [==============================] - 1s 25ms/step - loss: 0.1401 - accuracy: 0.9514 - val_loss: 0.1810 - val_accuracy: 0.9231\n",
      "Epoch 26/50\n",
      "38/38 [==============================] - 1s 25ms/step - loss: 0.2243 - accuracy: 0.9254 - val_loss: 0.2525 - val_accuracy: 0.9064\n",
      "Epoch 27/50\n",
      "38/38 [==============================] - 1s 26ms/step - loss: 0.1560 - accuracy: 0.9455 - val_loss: 0.2073 - val_accuracy: 0.9298\n",
      "Epoch 28/50\n",
      "38/38 [==============================] - 1s 26ms/step - loss: 0.1652 - accuracy: 0.9464 - val_loss: 0.1648 - val_accuracy: 0.9231\n",
      "Epoch 29/50\n",
      "38/38 [==============================] - 1s 26ms/step - loss: 0.1421 - accuracy: 0.9514 - val_loss: 0.1772 - val_accuracy: 0.9231\n",
      "Epoch 30/50\n",
      "38/38 [==============================] - 1s 26ms/step - loss: 0.1404 - accuracy: 0.9489 - val_loss: 0.1755 - val_accuracy: 0.9264\n",
      "Epoch 31/50\n",
      "38/38 [==============================] - 1s 26ms/step - loss: 0.1340 - accuracy: 0.9489 - val_loss: 0.1651 - val_accuracy: 0.9264\n",
      "Epoch 32/50\n",
      "38/38 [==============================] - 1s 25ms/step - loss: 0.1318 - accuracy: 0.9539 - val_loss: 0.1822 - val_accuracy: 0.9231\n",
      "Epoch 33/50\n",
      "38/38 [==============================] - 1s 26ms/step - loss: 0.1206 - accuracy: 0.9539 - val_loss: 0.1822 - val_accuracy: 0.9197\n",
      "Epoch 34/50\n",
      "38/38 [==============================] - 1s 25ms/step - loss: 0.1396 - accuracy: 0.9539 - val_loss: 0.1875 - val_accuracy: 0.9164\n",
      "Epoch 35/50\n",
      "38/38 [==============================] - 1s 26ms/step - loss: 0.1208 - accuracy: 0.9539 - val_loss: 0.2088 - val_accuracy: 0.9197\n",
      "Epoch 36/50\n",
      "38/38 [==============================] - 1s 26ms/step - loss: 0.1145 - accuracy: 0.9573 - val_loss: 0.1763 - val_accuracy: 0.9298\n",
      "Epoch 37/50\n",
      "38/38 [==============================] - 1s 26ms/step - loss: 0.1252 - accuracy: 0.9514 - val_loss: 0.2037 - val_accuracy: 0.9197\n",
      "Epoch 38/50\n",
      "38/38 [==============================] - 1s 25ms/step - loss: 0.1004 - accuracy: 0.9640 - val_loss: 0.1597 - val_accuracy: 0.9398\n",
      "Epoch 39/50\n",
      "38/38 [==============================] - 1s 25ms/step - loss: 0.0935 - accuracy: 0.9698 - val_loss: 0.1690 - val_accuracy: 0.9298\n",
      "Epoch 40/50\n",
      "38/38 [==============================] - 1s 25ms/step - loss: 0.0828 - accuracy: 0.9715 - val_loss: 0.1686 - val_accuracy: 0.9298\n",
      "Epoch 41/50\n",
      "38/38 [==============================] - 1s 25ms/step - loss: 0.0800 - accuracy: 0.9715 - val_loss: 0.1777 - val_accuracy: 0.9197\n",
      "Epoch 42/50\n",
      "38/38 [==============================] - 1s 25ms/step - loss: 0.0850 - accuracy: 0.9673 - val_loss: 0.1952 - val_accuracy: 0.9331\n",
      "Epoch 43/50\n",
      "38/38 [==============================] - 1s 26ms/step - loss: 0.0829 - accuracy: 0.9715 - val_loss: 0.1869 - val_accuracy: 0.9298\n",
      "Epoch 44/50\n",
      "38/38 [==============================] - 1s 26ms/step - loss: 0.0594 - accuracy: 0.9807 - val_loss: 0.1777 - val_accuracy: 0.9231\n",
      "Epoch 45/50\n",
      "38/38 [==============================] - 1s 25ms/step - loss: 0.0541 - accuracy: 0.9782 - val_loss: 0.2175 - val_accuracy: 0.8963\n",
      "Epoch 46/50\n",
      "38/38 [==============================] - 1s 25ms/step - loss: 0.0522 - accuracy: 0.9816 - val_loss: 0.1640 - val_accuracy: 0.9264\n",
      "Epoch 47/50\n",
      "38/38 [==============================] - 1s 26ms/step - loss: 0.0311 - accuracy: 0.9899 - val_loss: 0.1773 - val_accuracy: 0.9431\n",
      "Epoch 48/50\n",
      "38/38 [==============================] - 1s 25ms/step - loss: 0.0262 - accuracy: 0.9925 - val_loss: 0.1932 - val_accuracy: 0.9298\n",
      "Epoch 49/50\n",
      "38/38 [==============================] - 1s 26ms/step - loss: 0.0130 - accuracy: 1.0000 - val_loss: 0.2096 - val_accuracy: 0.9231\n",
      "Epoch 50/50\n",
      "38/38 [==============================] - 1s 26ms/step - loss: 0.0097 - accuracy: 0.9983 - val_loss: 0.2009 - val_accuracy: 0.9264\n"
     ]
    }
   ],
   "source": [
    "inputs = tf.keras.Input(shape=(X_train.shape[1],))\n",
    "expand_dims = tf.expand_dims(inputs, axis=2)\n",
    "\n",
    "conv1 = tf.keras.layers.Conv1D(64, 3, activation='relu')(expand_dims)\n",
    "maxpool1 = tf.keras.layers.MaxPooling1D(3)(conv1)\n",
    "\n",
    "conv2 = tf.keras.layers.Conv1D(128, 3, activation='relu')(maxpool1)\n",
    "maxpool2 = tf.keras.layers.MaxPooling1D(3)(conv2)\n",
    "\n",
    "gru = tf.keras.layers.GRU(256)(maxpool2)\n",
    "\n",
    "outputs = tf.keras.layers.Dense(3, activation='softmax')(gru)\n",
    "\n",
    "model = tf.keras.Model(inputs=inputs, outputs=outputs)\n",
    "\n",
    "model.compile(\n",
    "    optimizer='adam',\n",
    "    loss='sparse_categorical_crossentropy',\n",
    "    metrics=['accuracy']\n",
    ")\n",
    "history = model.fit(\n",
    "    X_train,\n",
    "    y_train,\n",
    "    validation_split=0.2,\n",
    "    batch_size=32,\n",
    "    epochs=50\n",
    ")\n"
   ]
  },
  {
   "cell_type": "code",
   "execution_count": 28,
   "id": "32276526",
   "metadata": {
    "scrolled": true
   },
   "outputs": [
    {
     "name": "stdout",
     "output_type": "stream",
     "text": [
      "Test Accuracy: 93.750%\n"
     ]
    }
   ],
   "source": [
    "model_acc = model.evaluate(X_test, y_test, verbose=0)[1]\n",
    "print(\"Test Accuracy: {:.3f}%\".format(model_acc * 100))"
   ]
  },
  {
   "cell_type": "code",
   "execution_count": 29,
   "id": "0e6b9a5a",
   "metadata": {
    "scrolled": false
   },
   "outputs": [
    {
     "name": "stdout",
     "output_type": "stream",
     "text": [
      "20/20 [==============================] - 1s 18ms/step\n"
     ]
    },
    {
     "data": {
      "image/png": "[encoded data removed]",
      "text/plain": [
       "<Figure size 800x800 with 2 Axes>"
      ]
     },
     "metadata": {},
     "output_type": "display_data"
    },
    {
     "name": "stdout",
     "output_type": "stream",
     "text": [
      "Classification Report:\n",
      "----------------------\n",
      "               precision    recall  f1-score   support\n",
      "\n",
      "    NEGATIVE       0.87      0.94      0.90       201\n",
      "     NEUTRAL       1.00      1.00      1.00       231\n",
      "    POSITIVE       0.94      0.87      0.90       208\n",
      "\n",
      "    accuracy                           0.94       640\n",
      "   macro avg       0.94      0.94      0.93       640\n",
      "weighted avg       0.94      0.94      0.94       640\n",
      "\n"
     ]
    }
   ],
   "source": [
    "y_pred = np.array(list(map(lambda x: np.argmax(x), model.predict(X_test))))\n",
    "\n",
    "cm = confusion_matrix(y_test, y_pred)\n",
    "cm_normalized = cm / cm.sum(axis=1, keepdims=True)  # Normalize the confusion matrix\n",
    "\n",
    "clr = classification_report(y_test, y_pred, target_names=label_mapping.keys())\n",
    "\n",
    "plt.figure(figsize=(8, 8))\n",
    "sns.heatmap(cm_normalized, annot=True, fmt=\".2f\", cmap='Blues')\n",
    "plt.xticks(np.arange(3) + 0.5, label_mapping.keys())\n",
    "plt.yticks(np.arange(3) + 0.5, label_mapping.keys())\n",
    "plt.xlabel(\"Predicted\")\n",
    "plt.ylabel(\"Actual\")\n",
    "plt.title(\"Normalized Confusion Matrix\")\n",
    "plt.show()\n",
    "\n",
    "print(\"Classification Report:\\n----------------------\\n\", clr)\n"
   ]
  },
  {
   "cell_type": "code",
   "execution_count": null,
   "id": "79ffad8f",
   "metadata": {},
   "outputs": [],
   "source": []
  },
  {
   "cell_type": "markdown",
   "id": "9257e61e",
   "metadata": {},
   "source": [
    "# \"Two-Layer Bidirectional LSTM Model\" "
   ]
  },
  {
   "cell_type": "code",
   "execution_count": 16,
   "id": "b9211d4e",
   "metadata": {
    "scrolled": true
   },
   "outputs": [
    {
     "name": "stdout",
     "output_type": "stream",
     "text": [
      "Model: \"model\"\n",
      "_________________________________________________________________\n",
      " Layer (type)                Output Shape              Param #   \n",
      "=================================================================\n",
      " input_1 (InputLayer)        [(None, 2548)]            0         \n",
      "                                                                 \n",
      " tf.expand_dims (TFOpLambda)  (None, 2548, 1)          0         \n",
      "                                                                 \n",
      " bidirectional (Bidirectiona  (None, 2548, 512)        528384    \n",
      " l)                                                              \n",
      "                                                                 \n",
      " bidirectional_1 (Bidirectio  (None, 256)              656384    \n",
      " nal)                                                            \n",
      "                                                                 \n",
      " dense (Dense)               (None, 3)                 771       \n",
      "                                                                 \n",
      "=================================================================\n",
      "Total params: 1,185,539\n",
      "Trainable params: 1,185,539\n",
      "Non-trainable params: 0\n",
      "_________________________________________________________________\n",
      "None\n",
      "Epoch 1/50\n"
     ]
    },
    {
     "name": "stderr",
     "output_type": "stream",
     "text": [
      "C:\\Users\\syeda\\anaconda3\\envs\\tensor\\lib\\site-packages\\keras\\engine\\data_adapter.py:1699: FutureWarning: The behavior of `series[i:j]` with an integer-dtype index is deprecated. In a future version, this will be treated as *label-based* indexing, consistent with e.g. `series[i]` lookups. To retain the old behavior, use `series.iloc[i:j]`. To get the future behavior, use `series.loc[i:j]`.\n",
      "  return t[start:end]\n"
     ]
    },
    {
     "name": "stdout",
     "output_type": "stream",
     "text": [
      "38/38 [==============================] - 30s 684ms/step - loss: 0.3344 - accuracy: 0.8617 - val_loss: 0.2876 - val_accuracy: 0.8930\n",
      "Epoch 2/50\n",
      "38/38 [==============================] - 25s 662ms/step - loss: 0.1849 - accuracy: 0.9304 - val_loss: 0.2577 - val_accuracy: 0.8896\n",
      "Epoch 3/50\n",
      "38/38 [==============================] - 25s 657ms/step - loss: 0.1752 - accuracy: 0.9262 - val_loss: 0.2788 - val_accuracy: 0.9030\n",
      "Epoch 4/50\n",
      "38/38 [==============================] - 25s 648ms/step - loss: 0.1646 - accuracy: 0.9346 - val_loss: 0.2154 - val_accuracy: 0.9130\n",
      "Epoch 5/50\n",
      "38/38 [==============================] - 24s 641ms/step - loss: 0.1472 - accuracy: 0.9380 - val_loss: 0.2332 - val_accuracy: 0.8796\n",
      "Epoch 6/50\n",
      "38/38 [==============================] - 24s 640ms/step - loss: 0.1441 - accuracy: 0.9430 - val_loss: 0.2533 - val_accuracy: 0.9130\n",
      "Epoch 7/50\n",
      "38/38 [==============================] - 24s 637ms/step - loss: 0.1247 - accuracy: 0.9514 - val_loss: 0.1898 - val_accuracy: 0.9298\n",
      "Epoch 8/50\n",
      "38/38 [==============================] - 24s 639ms/step - loss: 0.1456 - accuracy: 0.9447 - val_loss: 0.2161 - val_accuracy: 0.9197\n",
      "Epoch 9/50\n",
      "38/38 [==============================] - 24s 637ms/step - loss: 0.1116 - accuracy: 0.9547 - val_loss: 0.1924 - val_accuracy: 0.9264\n",
      "Epoch 10/50\n",
      "38/38 [==============================] - 24s 638ms/step - loss: 0.1103 - accuracy: 0.9564 - val_loss: 0.1774 - val_accuracy: 0.9365\n",
      "Epoch 11/50\n",
      "38/38 [==============================] - 25s 661ms/step - loss: 0.0890 - accuracy: 0.9614 - val_loss: 0.1807 - val_accuracy: 0.9365\n",
      "Epoch 12/50\n",
      "38/38 [==============================] - 25s 658ms/step - loss: 0.0841 - accuracy: 0.9665 - val_loss: 0.1780 - val_accuracy: 0.9398\n",
      "Epoch 13/50\n",
      "38/38 [==============================] - 25s 660ms/step - loss: 0.0724 - accuracy: 0.9765 - val_loss: 0.1878 - val_accuracy: 0.9231\n",
      "Epoch 14/50\n",
      "38/38 [==============================] - 25s 666ms/step - loss: 0.0805 - accuracy: 0.9707 - val_loss: 0.1772 - val_accuracy: 0.9365\n",
      "Epoch 15/50\n",
      "38/38 [==============================] - 25s 655ms/step - loss: 0.0848 - accuracy: 0.9707 - val_loss: 0.2250 - val_accuracy: 0.9365\n",
      "Epoch 16/50\n",
      "38/38 [==============================] - 25s 659ms/step - loss: 0.0691 - accuracy: 0.9673 - val_loss: 0.2576 - val_accuracy: 0.9231\n",
      "Epoch 17/50\n",
      "38/38 [==============================] - 25s 651ms/step - loss: 0.0573 - accuracy: 0.9757 - val_loss: 0.2030 - val_accuracy: 0.9231\n",
      "Epoch 18/50\n",
      "38/38 [==============================] - 25s 656ms/step - loss: 0.0650 - accuracy: 0.9723 - val_loss: 0.1879 - val_accuracy: 0.9298\n",
      "Epoch 19/50\n",
      "38/38 [==============================] - 25s 658ms/step - loss: 0.0726 - accuracy: 0.9723 - val_loss: 0.2046 - val_accuracy: 0.9365\n",
      "Epoch 20/50\n",
      "38/38 [==============================] - 25s 671ms/step - loss: 0.0411 - accuracy: 0.9866 - val_loss: 0.1723 - val_accuracy: 0.9331\n",
      "Epoch 21/50\n",
      "38/38 [==============================] - 25s 657ms/step - loss: 0.0481 - accuracy: 0.9799 - val_loss: 0.2048 - val_accuracy: 0.9298\n",
      "Epoch 22/50\n",
      "38/38 [==============================] - 25s 655ms/step - loss: 0.0543 - accuracy: 0.9765 - val_loss: 0.1554 - val_accuracy: 0.9565\n",
      "Epoch 23/50\n",
      "38/38 [==============================] - 25s 647ms/step - loss: 0.0289 - accuracy: 0.9908 - val_loss: 0.1530 - val_accuracy: 0.9599\n",
      "Epoch 24/50\n",
      "38/38 [==============================] - 25s 650ms/step - loss: 0.0249 - accuracy: 0.9899 - val_loss: 0.1790 - val_accuracy: 0.9599\n",
      "Epoch 25/50\n",
      "38/38 [==============================] - 25s 662ms/step - loss: 0.0591 - accuracy: 0.9790 - val_loss: 0.1443 - val_accuracy: 0.9565\n",
      "Epoch 26/50\n",
      "38/38 [==============================] - 25s 663ms/step - loss: 0.0394 - accuracy: 0.9874 - val_loss: 0.1909 - val_accuracy: 0.9365\n",
      "Epoch 27/50\n",
      "38/38 [==============================] - 25s 669ms/step - loss: 0.0230 - accuracy: 0.9899 - val_loss: 0.1583 - val_accuracy: 0.9599\n",
      "Epoch 28/50\n",
      "38/38 [==============================] - 25s 662ms/step - loss: 0.0189 - accuracy: 0.9933 - val_loss: 0.1444 - val_accuracy: 0.9599\n",
      "Epoch 29/50\n",
      "38/38 [==============================] - 25s 656ms/step - loss: 0.0215 - accuracy: 0.9916 - val_loss: 0.1851 - val_accuracy: 0.9632\n",
      "Epoch 30/50\n",
      "38/38 [==============================] - 25s 663ms/step - loss: 0.0323 - accuracy: 0.9899 - val_loss: 0.1172 - val_accuracy: 0.9732\n",
      "Epoch 31/50\n",
      "38/38 [==============================] - 25s 665ms/step - loss: 0.0127 - accuracy: 0.9975 - val_loss: 0.1536 - val_accuracy: 0.9666\n",
      "Epoch 32/50\n",
      "38/38 [==============================] - 25s 667ms/step - loss: 0.0098 - accuracy: 0.9983 - val_loss: 0.1325 - val_accuracy: 0.9833\n",
      "Epoch 33/50\n",
      "38/38 [==============================] - 25s 660ms/step - loss: 0.0046 - accuracy: 0.9983 - val_loss: 0.1461 - val_accuracy: 0.9799\n",
      "Epoch 34/50\n",
      "38/38 [==============================] - 25s 657ms/step - loss: 0.0153 - accuracy: 0.9941 - val_loss: 0.1611 - val_accuracy: 0.9632\n",
      "Epoch 35/50\n",
      "38/38 [==============================] - 25s 656ms/step - loss: 0.0099 - accuracy: 0.9950 - val_loss: 0.1350 - val_accuracy: 0.9699\n",
      "Epoch 36/50\n",
      "38/38 [==============================] - 25s 656ms/step - loss: 0.0123 - accuracy: 0.9941 - val_loss: 0.1562 - val_accuracy: 0.9632\n",
      "Epoch 37/50\n",
      "38/38 [==============================] - 25s 657ms/step - loss: 0.0415 - accuracy: 0.9866 - val_loss: 0.2175 - val_accuracy: 0.9465\n",
      "Epoch 38/50\n",
      "38/38 [==============================] - 25s 657ms/step - loss: 0.0403 - accuracy: 0.9841 - val_loss: 0.1451 - val_accuracy: 0.9699\n",
      "Epoch 39/50\n",
      "38/38 [==============================] - 25s 652ms/step - loss: 0.0239 - accuracy: 0.9908 - val_loss: 0.2554 - val_accuracy: 0.9298\n",
      "Epoch 40/50\n",
      "38/38 [==============================] - 25s 648ms/step - loss: 0.0157 - accuracy: 0.9958 - val_loss: 0.1631 - val_accuracy: 0.9632\n",
      "Epoch 41/50\n",
      "38/38 [==============================] - 25s 658ms/step - loss: 0.0117 - accuracy: 0.9975 - val_loss: 0.1319 - val_accuracy: 0.9799\n",
      "Epoch 42/50\n",
      "38/38 [==============================] - 25s 663ms/step - loss: 0.0014 - accuracy: 1.0000 - val_loss: 0.1217 - val_accuracy: 0.9833\n",
      "Epoch 43/50\n",
      "38/38 [==============================] - 25s 658ms/step - loss: 5.7296e-04 - accuracy: 1.0000 - val_loss: 0.1260 - val_accuracy: 0.9799\n",
      "Epoch 44/50\n",
      "38/38 [==============================] - 25s 653ms/step - loss: 3.9564e-04 - accuracy: 1.0000 - val_loss: 0.1279 - val_accuracy: 0.9799\n",
      "Epoch 45/50\n",
      "38/38 [==============================] - 25s 651ms/step - loss: 3.0631e-04 - accuracy: 1.0000 - val_loss: 0.1301 - val_accuracy: 0.9799\n",
      "Epoch 46/50\n",
      "38/38 [==============================] - 24s 647ms/step - loss: 2.5014e-04 - accuracy: 1.0000 - val_loss: 0.1316 - val_accuracy: 0.9799\n",
      "Epoch 47/50\n",
      "38/38 [==============================] - 25s 648ms/step - loss: 2.1392e-04 - accuracy: 1.0000 - val_loss: 0.1325 - val_accuracy: 0.9799\n",
      "Epoch 48/50\n",
      "38/38 [==============================] - 25s 656ms/step - loss: 1.8746e-04 - accuracy: 1.0000 - val_loss: 0.1344 - val_accuracy: 0.9799\n",
      "Epoch 49/50\n",
      "38/38 [==============================] - 25s 655ms/step - loss: 1.6681e-04 - accuracy: 1.0000 - val_loss: 0.1362 - val_accuracy: 0.9799\n",
      "Epoch 50/50\n",
      "38/38 [==============================] - 25s 654ms/step - loss: 1.5063e-04 - accuracy: 1.0000 - val_loss: 0.1375 - val_accuracy: 0.9799\n"
     ]
    }
   ],
   "source": [
    "inputs = tf.keras.Input(shape=(X_train.shape[1],))\n",
    "expand_dims = tf.expand_dims(inputs, axis=2)\n",
    "\n",
    "bilstm = tf.keras.layers.Bidirectional(tf.keras.layers.LSTM(256, return_sequences=True))(expand_dims)\n",
    "bilstm = tf.keras.layers.Bidirectional(tf.keras.layers.LSTM(128))(bilstm)\n",
    "\n",
    "outputs = tf.keras.layers.Dense(3, activation='softmax')(bilstm)\n",
    "\n",
    "model = tf.keras.Model(inputs=inputs, outputs=outputs)\n",
    "print(model.summary())\n",
    "\n",
    "model.compile(\n",
    "    optimizer='adam',\n",
    "    loss='sparse_categorical_crossentropy',\n",
    "    metrics=['accuracy']\n",
    ")\n",
    "history = model.fit(\n",
    "    X_train,\n",
    "    y_train,\n",
    "    validation_split=0.2,\n",
    "    batch_size=32,\n",
    "    epochs=50\n",
    ")\n"
   ]
  },
  {
   "cell_type": "code",
   "execution_count": 17,
   "id": "8e58c71b",
   "metadata": {},
   "outputs": [
    {
     "name": "stdout",
     "output_type": "stream",
     "text": [
      "Test Accuracy: 98.125%\n"
     ]
    }
   ],
   "source": [
    "model_acc = model.evaluate(X_test, y_test, verbose=0)[1]\n",
    "print(\"Test Accuracy: {:.3f}%\".format(model_acc * 100))"
   ]
  },
  {
   "cell_type": "code",
   "execution_count": 18,
   "id": "ca634b24",
   "metadata": {
    "scrolled": false
   },
   "outputs": [
    {
     "name": "stdout",
     "output_type": "stream",
     "text": [
      "20/20 [==============================] - 6s 257ms/step\n"
     ]
    },
    {
     "data": {
      "image/png": "[encoded data removed]",
      "text/plain": [
       "<Figure size 800x800 with 2 Axes>"
      ]
     },
     "metadata": {},
     "output_type": "display_data"
    },
    {
     "name": "stdout",
     "output_type": "stream",
     "text": [
      "Classification Report:\n",
      "----------------------\n",
      "               precision    recall  f1-score   support\n",
      "\n",
      "    NEGATIVE       0.97      0.98      0.97       201\n",
      "     NEUTRAL       1.00      1.00      1.00       231\n",
      "    POSITIVE       0.98      0.97      0.97       208\n",
      "\n",
      "    accuracy                           0.98       640\n",
      "   macro avg       0.98      0.98      0.98       640\n",
      "weighted avg       0.98      0.98      0.98       640\n",
      "\n"
     ]
    }
   ],
   "source": [
    "y_pred = np.array(list(map(lambda x: np.argmax(x), model.predict(X_test))))\n",
    "\n",
    "cm = confusion_matrix(y_test, y_pred)\n",
    "cm_normalized = cm / cm.sum(axis=1, keepdims=True)  # Normalize the confusion matrix\n",
    "\n",
    "clr = classification_report(y_test, y_pred, target_names=label_mapping.keys())\n",
    "\n",
    "plt.figure(figsize=(8, 8))\n",
    "sns.heatmap(cm_normalized, annot=True, fmt=\".2f\", cmap='Blues')\n",
    "plt.xticks(np.arange(3) + 0.5, label_mapping.keys())\n",
    "plt.yticks(np.arange(3) + 0.5, label_mapping.keys())\n",
    "plt.xlabel(\"Predicted\")\n",
    "plt.ylabel(\"Actual\")\n",
    "plt.title(\"Normalized Confusion Matrix\")\n",
    "plt.show()\n",
    "\n",
    "print(\"Classification Report:\\n----------------------\\n\", clr)"
   ]
  },
  {
   "cell_type": "code",
   "execution_count": null,
   "id": "c7241dd2",
   "metadata": {},
   "outputs": [],
   "source": []
  },
  {
   "cell_type": "markdown",
   "id": "b01c6255",
   "metadata": {},
   "source": [
    "# \"CNN-BiLSTM Model\" >>> \"2-Layer CNN and 2-Layer BiLSTM Model\""
   ]
  },
  {
   "cell_type": "code",
   "execution_count": 19,
   "id": "b0c95e6a",
   "metadata": {
    "scrolled": true
   },
   "outputs": [
    {
     "name": "stdout",
     "output_type": "stream",
     "text": [
      "Epoch 1/50\n"
     ]
    },
    {
     "name": "stderr",
     "output_type": "stream",
     "text": [
      "C:\\Users\\syeda\\anaconda3\\envs\\tensor\\lib\\site-packages\\keras\\engine\\data_adapter.py:1699: FutureWarning: The behavior of `series[i:j]` with an integer-dtype index is deprecated. In a future version, this will be treated as *label-based* indexing, consistent with e.g. `series[i]` lookups. To retain the old behavior, use `series.iloc[i:j]`. To get the future behavior, use `series.loc[i:j]`.\n",
      "  return t[start:end]\n"
     ]
    },
    {
     "name": "stdout",
     "output_type": "stream",
     "text": [
      "38/38 [==============================] - 8s 109ms/step - loss: 0.3546 - accuracy: 0.8709 - val_loss: 0.3165 - val_accuracy: 0.8595\n",
      "Epoch 2/50\n",
      "38/38 [==============================] - 3s 88ms/step - loss: 0.2408 - accuracy: 0.9153 - val_loss: 0.2591 - val_accuracy: 0.8930\n",
      "Epoch 3/50\n",
      "38/38 [==============================] - 3s 84ms/step - loss: 0.2297 - accuracy: 0.9195 - val_loss: 0.2591 - val_accuracy: 0.9030\n",
      "Epoch 4/50\n",
      "38/38 [==============================] - 3s 84ms/step - loss: 0.2024 - accuracy: 0.9254 - val_loss: 0.2433 - val_accuracy: 0.9064\n",
      "Epoch 5/50\n",
      "38/38 [==============================] - 3s 85ms/step - loss: 0.1854 - accuracy: 0.9363 - val_loss: 0.2572 - val_accuracy: 0.8997\n",
      "Epoch 6/50\n",
      "38/38 [==============================] - 3s 85ms/step - loss: 0.1718 - accuracy: 0.9388 - val_loss: 0.2244 - val_accuracy: 0.9264\n",
      "Epoch 7/50\n",
      "38/38 [==============================] - 3s 85ms/step - loss: 0.1692 - accuracy: 0.9355 - val_loss: 0.2329 - val_accuracy: 0.9030\n",
      "Epoch 8/50\n",
      "38/38 [==============================] - 3s 85ms/step - loss: 0.1650 - accuracy: 0.9438 - val_loss: 0.2475 - val_accuracy: 0.9130\n",
      "Epoch 9/50\n",
      "38/38 [==============================] - 3s 85ms/step - loss: 0.1641 - accuracy: 0.9396 - val_loss: 0.2496 - val_accuracy: 0.9130\n",
      "Epoch 10/50\n",
      "38/38 [==============================] - 3s 85ms/step - loss: 0.1726 - accuracy: 0.9447 - val_loss: 0.3286 - val_accuracy: 0.8896\n",
      "Epoch 11/50\n",
      "38/38 [==============================] - 3s 84ms/step - loss: 0.1729 - accuracy: 0.9355 - val_loss: 0.3546 - val_accuracy: 0.8796\n",
      "Epoch 12/50\n",
      "38/38 [==============================] - 3s 84ms/step - loss: 0.1520 - accuracy: 0.9447 - val_loss: 0.2306 - val_accuracy: 0.9331\n",
      "Epoch 13/50\n",
      "38/38 [==============================] - 3s 84ms/step - loss: 0.1576 - accuracy: 0.9480 - val_loss: 0.2352 - val_accuracy: 0.9164\n",
      "Epoch 14/50\n",
      "38/38 [==============================] - 3s 84ms/step - loss: 0.1371 - accuracy: 0.9539 - val_loss: 0.2723 - val_accuracy: 0.9164\n",
      "Epoch 15/50\n",
      "38/38 [==============================] - 3s 85ms/step - loss: 0.1449 - accuracy: 0.9539 - val_loss: 0.2515 - val_accuracy: 0.9231\n",
      "Epoch 16/50\n",
      "38/38 [==============================] - 3s 83ms/step - loss: 0.1289 - accuracy: 0.9472 - val_loss: 0.2298 - val_accuracy: 0.9231\n",
      "Epoch 17/50\n",
      "38/38 [==============================] - 3s 83ms/step - loss: 0.1191 - accuracy: 0.9522 - val_loss: 0.2763 - val_accuracy: 0.9130\n",
      "Epoch 18/50\n",
      "38/38 [==============================] - 3s 83ms/step - loss: 0.1294 - accuracy: 0.9531 - val_loss: 0.2363 - val_accuracy: 0.9264\n",
      "Epoch 19/50\n",
      "38/38 [==============================] - 3s 85ms/step - loss: 0.1137 - accuracy: 0.9547 - val_loss: 0.3074 - val_accuracy: 0.9064\n",
      "Epoch 20/50\n",
      "38/38 [==============================] - 3s 85ms/step - loss: 0.1379 - accuracy: 0.9497 - val_loss: 0.2717 - val_accuracy: 0.9097\n",
      "Epoch 21/50\n",
      "38/38 [==============================] - 3s 85ms/step - loss: 0.1190 - accuracy: 0.9556 - val_loss: 0.2626 - val_accuracy: 0.9164\n",
      "Epoch 22/50\n",
      "38/38 [==============================] - 3s 85ms/step - loss: 0.1149 - accuracy: 0.9497 - val_loss: 0.2094 - val_accuracy: 0.9298\n",
      "Epoch 23/50\n",
      "38/38 [==============================] - 3s 83ms/step - loss: 0.1075 - accuracy: 0.9581 - val_loss: 0.2148 - val_accuracy: 0.9398\n",
      "Epoch 24/50\n",
      "38/38 [==============================] - 3s 84ms/step - loss: 0.0960 - accuracy: 0.9614 - val_loss: 0.2828 - val_accuracy: 0.9164\n",
      "Epoch 25/50\n",
      "38/38 [==============================] - 3s 84ms/step - loss: 0.0952 - accuracy: 0.9606 - val_loss: 0.2076 - val_accuracy: 0.9398\n",
      "Epoch 26/50\n",
      "38/38 [==============================] - 3s 83ms/step - loss: 0.1289 - accuracy: 0.9589 - val_loss: 0.2613 - val_accuracy: 0.9130\n",
      "Epoch 27/50\n",
      "38/38 [==============================] - 3s 85ms/step - loss: 0.1550 - accuracy: 0.9422 - val_loss: 0.2416 - val_accuracy: 0.9164\n",
      "Epoch 28/50\n",
      "38/38 [==============================] - 3s 85ms/step - loss: 0.1070 - accuracy: 0.9564 - val_loss: 0.3571 - val_accuracy: 0.8863\n",
      "Epoch 29/50\n",
      "38/38 [==============================] - 3s 83ms/step - loss: 0.1147 - accuracy: 0.9614 - val_loss: 0.2505 - val_accuracy: 0.9298\n",
      "Epoch 30/50\n",
      "38/38 [==============================] - 3s 85ms/step - loss: 0.1132 - accuracy: 0.9573 - val_loss: 0.2338 - val_accuracy: 0.9298\n",
      "Epoch 31/50\n",
      "38/38 [==============================] - 3s 83ms/step - loss: 0.1132 - accuracy: 0.9539 - val_loss: 0.2275 - val_accuracy: 0.9331\n",
      "Epoch 32/50\n",
      "38/38 [==============================] - 3s 83ms/step - loss: 0.0936 - accuracy: 0.9665 - val_loss: 0.2069 - val_accuracy: 0.9365\n",
      "Epoch 33/50\n",
      "38/38 [==============================] - 3s 85ms/step - loss: 0.0650 - accuracy: 0.9749 - val_loss: 0.2774 - val_accuracy: 0.9298\n",
      "Epoch 34/50\n",
      "38/38 [==============================] - 3s 84ms/step - loss: 0.0992 - accuracy: 0.9640 - val_loss: 0.2877 - val_accuracy: 0.9064\n",
      "Epoch 35/50\n",
      "38/38 [==============================] - 3s 84ms/step - loss: 0.0884 - accuracy: 0.9690 - val_loss: 0.2181 - val_accuracy: 0.9365\n",
      "Epoch 36/50\n",
      "38/38 [==============================] - 3s 84ms/step - loss: 0.1401 - accuracy: 0.9447 - val_loss: 0.2316 - val_accuracy: 0.9231\n",
      "Epoch 37/50\n",
      "38/38 [==============================] - 3s 83ms/step - loss: 0.1734 - accuracy: 0.9430 - val_loss: 0.2084 - val_accuracy: 0.9197\n",
      "Epoch 38/50\n",
      "38/38 [==============================] - 3s 85ms/step - loss: 0.1700 - accuracy: 0.9271 - val_loss: 0.2017 - val_accuracy: 0.9164\n",
      "Epoch 39/50\n",
      "38/38 [==============================] - 3s 85ms/step - loss: 0.1230 - accuracy: 0.9564 - val_loss: 0.2715 - val_accuracy: 0.8796\n",
      "Epoch 40/50\n",
      "38/38 [==============================] - 3s 85ms/step - loss: 0.1434 - accuracy: 0.9464 - val_loss: 0.2705 - val_accuracy: 0.9097\n",
      "Epoch 41/50\n",
      "38/38 [==============================] - 3s 85ms/step - loss: 0.1181 - accuracy: 0.9573 - val_loss: 0.2111 - val_accuracy: 0.9331\n",
      "Epoch 42/50\n",
      "38/38 [==============================] - 3s 84ms/step - loss: 0.0992 - accuracy: 0.9598 - val_loss: 0.2263 - val_accuracy: 0.9264\n",
      "Epoch 43/50\n",
      "38/38 [==============================] - 3s 84ms/step - loss: 0.0846 - accuracy: 0.9690 - val_loss: 0.2454 - val_accuracy: 0.9231\n",
      "Epoch 44/50\n",
      "38/38 [==============================] - 3s 84ms/step - loss: 0.0816 - accuracy: 0.9673 - val_loss: 0.2794 - val_accuracy: 0.9164\n",
      "Epoch 45/50\n",
      "38/38 [==============================] - 3s 85ms/step - loss: 0.0865 - accuracy: 0.9673 - val_loss: 0.2393 - val_accuracy: 0.9298\n",
      "Epoch 46/50\n",
      "38/38 [==============================] - 3s 84ms/step - loss: 0.1016 - accuracy: 0.9631 - val_loss: 0.2206 - val_accuracy: 0.9365\n",
      "Epoch 47/50\n",
      "38/38 [==============================] - 3s 84ms/step - loss: 0.0722 - accuracy: 0.9715 - val_loss: 0.1911 - val_accuracy: 0.9465\n",
      "Epoch 48/50\n",
      "38/38 [==============================] - 3s 85ms/step - loss: 0.0581 - accuracy: 0.9740 - val_loss: 0.2907 - val_accuracy: 0.9130\n",
      "Epoch 49/50\n",
      "38/38 [==============================] - 3s 86ms/step - loss: 0.0618 - accuracy: 0.9782 - val_loss: 0.2165 - val_accuracy: 0.9398\n",
      "Epoch 50/50\n",
      "38/38 [==============================] - 3s 85ms/step - loss: 0.0535 - accuracy: 0.9774 - val_loss: 0.3548 - val_accuracy: 0.8829\n"
     ]
    }
   ],
   "source": [
    "inputs = tf.keras.Input(shape=(X_train.shape[1],))\n",
    "expand_dims = tf.expand_dims(inputs, axis=2)\n",
    "\n",
    "conv1 = tf.keras.layers.Conv1D(64, 3, activation='relu')(expand_dims)\n",
    "maxpool1 = tf.keras.layers.MaxPooling1D(3)(conv1)\n",
    "\n",
    "conv2 = tf.keras.layers.Conv1D(128, 3, activation='relu')(maxpool1)\n",
    "maxpool2 = tf.keras.layers.MaxPooling1D(3)(conv2)\n",
    "\n",
    "bilstm1 = tf.keras.layers.Bidirectional(tf.keras.layers.LSTM(256, return_sequences=True))(maxpool2)\n",
    "bilstm2 = tf.keras.layers.Bidirectional(tf.keras.layers.LSTM(128))(bilstm1)\n",
    "\n",
    "dense = tf.keras.layers.Dense(64, activation='relu')(bilstm2)\n",
    "outputs = tf.keras.layers.Dense(3, activation='softmax')(dense)\n",
    "\n",
    "model = tf.keras.Model(inputs=inputs, outputs=outputs)\n",
    "\n",
    "model.compile(\n",
    "    optimizer='adam',\n",
    "    loss='sparse_categorical_crossentropy',\n",
    "    metrics=['accuracy']\n",
    ")\n",
    "history = model.fit(\n",
    "    X_train,\n",
    "    y_train,\n",
    "    validation_split=0.2,\n",
    "    batch_size=32,\n",
    "    epochs=50\n",
    ")\n"
   ]
  },
  {
   "cell_type": "code",
   "execution_count": 20,
   "id": "b02b82ce",
   "metadata": {},
   "outputs": [
    {
     "name": "stdout",
     "output_type": "stream",
     "text": [
      "Test Accuracy: 92.656%\n"
     ]
    }
   ],
   "source": [
    "model_acc = model.evaluate(X_test, y_test, verbose=0)[1]\n",
    "print(\"Test Accuracy: {:.3f}%\".format(model_acc * 100))"
   ]
  },
  {
   "cell_type": "code",
   "execution_count": 21,
   "id": "b7387131",
   "metadata": {
    "scrolled": false
   },
   "outputs": [
    {
     "name": "stdout",
     "output_type": "stream",
     "text": [
      "20/20 [==============================] - 1s 34ms/step\n"
     ]
    },
    {
     "data": {
      "image/png": "[encoded data removed]",
      "text/plain": [
       "<Figure size 800x800 with 2 Axes>"
      ]
     },
     "metadata": {},
     "output_type": "display_data"
    },
    {
     "name": "stdout",
     "output_type": "stream",
     "text": [
      "Classification Report:\n",
      "----------------------\n",
      "               precision    recall  f1-score   support\n",
      "\n",
      "    NEGATIVE       0.91      0.87      0.89       201\n",
      "     NEUTRAL       1.00      0.99      0.99       231\n",
      "    POSITIVE       0.86      0.92      0.89       208\n",
      "\n",
      "    accuracy                           0.93       640\n",
      "   macro avg       0.93      0.92      0.92       640\n",
      "weighted avg       0.93      0.93      0.93       640\n",
      "\n"
     ]
    }
   ],
   "source": [
    "y_pred = np.array(list(map(lambda x: np.argmax(x), model.predict(X_test))))\n",
    "\n",
    "cm = confusion_matrix(y_test, y_pred)\n",
    "cm_normalized = cm / cm.sum(axis=1, keepdims=True)  # Normalize the confusion matrix\n",
    "\n",
    "clr = classification_report(y_test, y_pred, target_names=label_mapping.keys())\n",
    "\n",
    "plt.figure(figsize=(8, 8))\n",
    "sns.heatmap(cm_normalized, annot=True, fmt=\".2f\", cmap='Blues')\n",
    "plt.xticks(np.arange(3) + 0.5, label_mapping.keys())\n",
    "plt.yticks(np.arange(3) + 0.5, label_mapping.keys())\n",
    "plt.xlabel(\"Predicted\")\n",
    "plt.ylabel(\"Actual\")\n",
    "plt.title(\"Normalized Confusion Matrix\")\n",
    "plt.show()\n",
    "\n",
    "print(\"Classification Report:\\n----------------------\\n\", clr)"
   ]
  },
  {
   "cell_type": "code",
   "execution_count": null,
   "id": "5825ab47",
   "metadata": {},
   "outputs": [],
   "source": []
  }
 ],
 "metadata": {
  "kernelspec": {
   "display_name": "Python 3 (ipykernel)",
   "language": "python",
   "name": "python3"
  },
  "language_info": {
   "codemirror_mode": {
    "name": "ipython",
    "version": 3
   },
   "file_extension": ".py",
   "mimetype": "text/x-python",
   "name": "python",
   "nbconvert_exporter": "python",
   "pygments_lexer": "ipython3",
   "version": "3.9.16"
  }
 },
 "nbformat": 4,
 "nbformat_minor": 5
}
